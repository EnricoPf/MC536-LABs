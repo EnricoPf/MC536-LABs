{
 "cells": [
  {
   "cell_type": "code",
   "execution_count": 1,
   "source": [
    "%defaultDatasource jdbc:h2:mem:db"
   ],
   "outputs": [],
   "metadata": {}
  },
  {
   "cell_type": "markdown",
   "source": [
    "# Analisando o Uso de Medicamentos\n",
    "* Esta tarefa analisará os dados conforme três abordagens: análise do comportamento estatístico; análise de correlação entre pares; análise de correlação de variáveis.\n",
    "* A partir dos arquivos CSV que estão no diretórios /data/nhanes considere as seguintes tabelas SQL."
   ],
   "metadata": {}
  },
  {
   "cell_type": "code",
   "execution_count": 2,
   "source": [
    "DROP Table IF EXISTS Person;\r\n",
    "DROP Table IF EXISTS Drug;\r\n",
    "DROP Table IF EXISTS DrugUse;"
   ],
   "outputs": [],
   "metadata": {}
  },
  {
   "cell_type": "code",
   "execution_count": 3,
   "source": [
    "CREATE TABLE Person (\r\n",
    "  Id VARCHAR(5) NOT NULL,\r\n",
    "  Gender INTEGER,\r\n",
    "  Age INTEGER,\r\n",
    "  PRIMARY KEY(Id)\r\n",
    ") AS SELECT\r\n",
    "    id,\r\n",
    "    gender,\r\n",
    "    age\r\n",
    "FROM CSVREAD('../data/demographic-person.csv');\r\n",
    "\r\n",
    "CREATE TABLE Drug (\r\n",
    "  Code VARCHAR(6) NOT NULL,\r\n",
    "  Name VARCHAR(100) NOT NULL,\r\n",
    "  PRIMARY KEY(Code)\r\n",
    ") AS SELECT\r\n",
    "    code,\r\n",
    "    name\r\n",
    "FROM CSVREAD('../data/medications-drug.csv');\r\n",
    "\r\n",
    "CREATE TABLE DrugUse (\r\n",
    "  PersonId VARCHAR(5) NOT NULL,\r\n",
    "  DrugCode VARCHAR(6) NOT NULL,\r\n",
    "  DaysUse INTEGER,\r\n",
    "  FOREIGN KEY(PersonId)\r\n",
    "    REFERENCES Person(Id)\r\n",
    "      ON DELETE NO ACTION\r\n",
    "      ON UPDATE NO ACTION,\r\n",
    "  FOREIGN KEY(DrugCode)\r\n",
    "    REFERENCES Drug(Code)\r\n",
    "      ON DELETE NO ACTION\r\n",
    "      ON UPDATE NO ACTION\r\n",
    ") AS SELECT\r\n",
    "    person_id,\r\n",
    "    drug_code,\r\n",
    "    days_use\r\n",
    "FROM CSVREAD('../data/medications-use.csv');"
   ],
   "outputs": [],
   "metadata": {}
  },
  {
   "cell_type": "code",
   "execution_count": 4,
   "source": [
    "SELECT * FROM Person;\r\n",
    "SELECT * FROM Drug;\r\n",
    "SELECT * FROM DrugUse"
   ],
   "outputs": [
    {
     "output_type": "display_data",
     "data": {
      "application/vnd.jupyter.widget-view+json": {
       "version_minor": 0,
       "model_id": "5b488762-24e2-45ed-83c3-4eb1d13b52ac",
       "version_major": 2
      },
      "text/plain": []
     },
     "metadata": {}
    },
    {
     "output_type": "display_data",
     "data": {
      "application/vnd.jupyter.widget-view+json": {
       "version_minor": 0,
       "model_id": "106cf16e-7f84-4d4d-8755-61a8d3b458d6",
       "version_major": 2
      },
      "text/plain": []
     },
     "metadata": {}
    },
    {
     "output_type": "display_data",
     "data": {
      "application/vnd.jupyter.widget-view+json": {
       "version_minor": 0,
       "model_id": "6530aaa6-9fb0-4979-a5a9-2db1cec936db",
       "version_major": 2
      },
      "text/plain": []
     },
     "metadata": {}
    }
   ],
   "metadata": {}
  },
  {
   "cell_type": "markdown",
   "source": [
    "# I. Análise de comportamento estatístico"
   ],
   "metadata": {}
  },
  {
   "cell_type": "markdown",
   "source": [
    "## 1) Contabilizando o uso de medicamentos\n",
    "\n",
    "* Liste o nome de todos os medicamentos e a quantidade de pessoas que usa cada um deles."
   ],
   "metadata": {}
  },
  {
   "cell_type": "code",
   "execution_count": 5,
   "source": [
    "SELECT D.Name, COUNT (*) NPessoas\r\n",
    "    FROM Drug D, DrugUse DU\r\n",
    "    WHERE D.Code = DU.DrugCode\r\n",
    "    GROUP BY D.Name"
   ],
   "outputs": [
    {
     "output_type": "display_data",
     "data": {
      "application/vnd.jupyter.widget-view+json": {
       "version_minor": 0,
       "model_id": "b9d58b6a-6053-4502-9352-d1b593e4a643",
       "version_major": 2
      },
      "text/plain": []
     },
     "metadata": {}
    }
   ],
   "metadata": {}
  },
  {
   "cell_type": "markdown",
   "source": [
    "## 2) Medicamento mais usado com VIEW\n",
    "\n",
    "* Informe o código do medicamento mais usado: fazendo uso de VIEW."
   ],
   "metadata": {}
  },
  {
   "cell_type": "code",
   "execution_count": 6,
   "source": [
    "DROP Table IF EXISTS DrugUserNumbers;\r\n",
    "CREATE VIEW DrugUserNumbers AS\r\n",
    "    SELECT D.Code, COUNT (*) NPessoas\r\n",
    "        FROM Drug D, DrugUse DU\r\n",
    "        WHERE D.Code = DU.DrugCode\r\n",
    "        GROUP BY D.Code"
   ],
   "outputs": [],
   "metadata": {}
  },
  {
   "cell_type": "code",
   "execution_count": 7,
   "source": [
    "SELECT DU.Code\r\n",
    "    FROM DrugUserNumbers DU\r\n",
    "    WHERE DU.Npessoas = (SELECT MAX(NPessoas) FROM DrugUserNumbers)"
   ],
   "outputs": [
    {
     "output_type": "execute_result",
     "data": {
      "text/plain": [
       "d00732"
      ]
     },
     "metadata": {},
     "execution_count": 7
    }
   ],
   "metadata": {}
  },
  {
   "cell_type": "markdown",
   "source": [
    "## 3) Medicamento mais usado sem VIEW\n",
    "\n",
    "* Informe o código do medicamento mais usado: sem fazer uso de VIEW."
   ],
   "metadata": {}
  },
  {
   "cell_type": "code",
   "execution_count": 8,
   "source": [
    "SELECT CODE FROM (\r\n",
    "        SELECT D.Code, COUNT (*) NPessoas\r\n",
    "                FROM Drug D, DrugUse DU\r\n",
    "                WHERE D.Code = DU.DrugCode\r\n",
    "                GROUP BY D.Code\r\n",
    ") U\r\n",
    "WHERE U.NPessoas = SELECT MAX(NPessoas) FROM (SELECT D.Code, COUNT (*) NPessoas\r\n",
    "                FROM Drug D, DrugUse DU\r\n",
    "                WHERE D.Code = DU.DrugCode\r\n",
    "                GROUP BY D.Code);\r\n"
   ],
   "outputs": [
    {
     "output_type": "execute_result",
     "data": {
      "text/plain": [
       "d00732"
      ]
     },
     "metadata": {},
     "execution_count": 8
    }
   ],
   "metadata": {}
  },
  {
   "cell_type": "markdown",
   "source": [
    "## 4) Nome do medicamento mais usado\n",
    "* Informe o nome do medicamento mais usado (uso de VIEW é opcional)."
   ],
   "metadata": {}
  },
  {
   "cell_type": "code",
   "execution_count": 9,
   "source": [
    "DROP Table IF EXISTS DrugUserN;\r\n",
    "\r\n",
    "CREATE VIEW DrugUserN AS\r\n",
    "    SELECT D.Name, D.Code, COUNT (*) NPessoas\r\n",
    "        FROM Drug D, DrugUse DU\r\n",
    "        WHERE D.Code = DU.DrugCode\r\n",
    "        GROUP BY D.Code"
   ],
   "outputs": [],
   "metadata": {}
  },
  {
   "cell_type": "code",
   "execution_count": 10,
   "source": [
    "SELECT DU.Name\r\n",
    "    FROM DrugUserN DU\r\n",
    "    WHERE DU.Npessoas = (SELECT MAX(NPessoas) FROM DrugUserNumbers)"
   ],
   "outputs": [
    {
     "output_type": "execute_result",
     "data": {
      "text/plain": [
       "LISINOPRIL"
      ]
     },
     "metadata": {},
     "execution_count": 10
    }
   ],
   "metadata": {}
  },
  {
   "cell_type": "markdown",
   "source": [
    "## 5) Contabilizando quanto as pessoas usam de medicamento\n",
    "\n",
    "* Informe o número médio de uso de medicamento por pessoa."
   ],
   "metadata": {}
  },
  {
   "cell_type": "code",
   "execution_count": 11,
   "source": [
    "SELECT AVG(NMedicamento)\r\n",
    "       FROM (SELECT DU.PersonID, COUNT (*) NMedicamento\r\n",
    "            FROM DrugUse DU\r\n",
    "            GROUP BY DU.PersonID)"
   ],
   "outputs": [
    {
     "output_type": "execute_result",
     "data": {
      "text/plain": [
       "3"
      ]
     },
     "metadata": {},
     "execution_count": 11
    }
   ],
   "metadata": {}
  },
  {
   "cell_type": "markdown",
   "source": [
    "## 6) Pessoas que usam mais do que a média\n",
    "\n",
    "* Liste o id das pessoas que usam mais medicamentos do que a média."
   ],
   "metadata": {}
  },
  {
   "cell_type": "code",
   "execution_count": 12,
   "source": [
    "DROP Table IF EXISTS DrugUseCount;\r\n",
    "\r\n",
    "CREATE VIEW DrugUseCount AS\r\n",
    "    SELECT DU.PersonID, COUNT (*) NDrugs\r\n",
    "        FROM DrugUse DU\r\n",
    "        GROUP BY DU.PersonID"
   ],
   "outputs": [],
   "metadata": {}
  },
  {
   "cell_type": "code",
   "execution_count": 13,
   "source": [
    "SELECT DUC.PersonID, DUC.NDrugs\r\n",
    "    FROM DrugUseCount DUC\r\n",
    "    WHERE DUC.NDrugs > (SELECT AVG(NDrugs)\r\n",
    "                            FROM DrugUseCount)"
   ],
   "outputs": [
    {
     "output_type": "display_data",
     "data": {
      "application/vnd.jupyter.widget-view+json": {
       "version_minor": 0,
       "model_id": "e0f8c9e9-948f-4946-a049-c03cd203e221",
       "version_major": 2
      },
      "text/plain": []
     },
     "metadata": {}
    }
   ],
   "metadata": {}
  },
  {
   "cell_type": "markdown",
   "source": [
    "## 7) Análise do uso de medicamento\n",
    "\n",
    "* Considere que um médico quer fazer responder a seguinte questão: pessoas tendem a usar mais medicamentos conforme ficam mais velhas?\n",
    "* Escreva uma query que ajude o médico a realizar esta análise."
   ],
   "metadata": {}
  },
  {
   "cell_type": "code",
   "execution_count": 14,
   "source": [
    "DROP Table IF EXISTS DrugUseAge;\r\n",
    "CREATE VIEW DrugUseAge AS\r\n",
    "    SELECT P.ID, P.Age, COUNT (*) NDrugs\r\n",
    "    FROM Person P, DrugUse DU\r\n",
    "    WHERE P.ID = DU.PersonID\r\n",
    "    GROUP BY DU.PersonID"
   ],
   "outputs": [],
   "metadata": {}
  },
  {
   "cell_type": "code",
   "execution_count": 15,
   "source": [
    "SELECT COUNT(*) Pessoas, * FROM (\r\n",
    "    SELECT\r\n",
    "        CASE \r\n",
    "            WHEN Age< 18 THEN '0-18'\r\n",
    "            WHEN Age BETWEEN 18 AND 20 THEN '18-20'\r\n",
    "            WHEN Age BETWEEN 21 AND 30 THEN '21-30'\r\n",
    "            WHEN Age BETWEEN 31 AND 40 THEN '31-40'\r\n",
    "            WHEN Age BETWEEN 41 AND 50 THEN '41-50'\r\n",
    "            WHEN Age BETWEEN 51 AND 60 THEN '51-60'\r\n",
    "            WHEN Age BETWEEN 61 AND 70 THEN '61-70'\r\n",
    "            WHEN Age BETWEEN 71 AND 80 THEN '71-80'\r\n",
    "            WHEN Age BETWEEN 81 AND 90 THEN '81-90'\r\n",
    "            WHEN Age BETWEEN 91 AND 100 THEN '91-100'\r\n",
    "        END AS AgeRange\r\n",
    "    FROM DrugUseAge\r\n",
    ") T \r\n",
    "GROUP BY AgeRange\r\n",
    "ORDER By AgeRange"
   ],
   "outputs": [
    {
     "output_type": "display_data",
     "data": {
      "application/vnd.jupyter.widget-view+json": {
       "version_minor": 0,
       "model_id": "2b995675-5ae3-4e4e-ba93-c99b497597f4",
       "version_major": 2
      },
      "text/plain": []
     },
     "metadata": {}
    }
   ],
   "metadata": {}
  },
  {
   "cell_type": "markdown",
   "source": [
    "# Navegando por Hierarquias\n",
    "\n",
    "A seguir exercícios envolvendo navegação por hierarquias."
   ],
   "metadata": {}
  },
  {
   "cell_type": "markdown",
   "source": [
    "# Marcadores e Taxonomia\r\n",
    "\r\n",
    "Considere o modelo para `Marcadores` e `Taxonomia`:\r\n",
    "\r\n",
    "![UML](marcadores-taxonomia-uml.png)\r\n",
    "\r\n",
    "![Relacional](marcadores-taxonomia-er.png)\r\n",
    "\r\n",
    "Considere as sentenças SQL a seguir para montar as tabelas de `Marcadores` e `Taxonomia`:"
   ],
   "metadata": {}
  },
  {
   "cell_type": "code",
   "execution_count": 2,
   "source": [
    "DROP TABLE IF EXISTS Taxonomia;\r\n",
    "DROP TABLE IF EXISTS Marcadores;\r\n",
    "\r\n",
    "CREATE TABLE Taxonomia (\r\n",
    "  Categoria VARCHAR(50) NOT NULL,\r\n",
    "  Superior  VARCHAR(50),\r\n",
    "  PRIMARY KEY(Categoria),\r\n",
    "  FOREIGN KEY(Superior)\r\n",
    "    REFERENCES Taxonomia(Categoria)\r\n",
    "      ON DELETE NO ACTION\r\n",
    "      ON UPDATE CASCADE\r\n",
    ");\r\n",
    "\r\n",
    "CREATE TABLE Marcadores (\r\n",
    "  Titulo VARCHAR(50) NOT NULL,\r\n",
    "  Endereco VARCHAR(80) NOT NULL,\r\n",
    "  Acessos INTEGER,\r\n",
    "  Categoria VARCHAR(50) NOT NULL,\r\n",
    "  PRIMARY KEY(Titulo),\r\n",
    "  FOREIGN KEY(Categoria)\r\n",
    "    REFERENCES Taxonomia(Categoria)\r\n",
    "      ON DELETE NO ACTION\r\n",
    "      ON UPDATE CASCADE\r\n",
    ");"
   ],
   "outputs": [],
   "metadata": {}
  },
  {
   "cell_type": "markdown",
   "source": [
    "As tabelas são preenchidas com as seguintes tuplas:"
   ],
   "metadata": {}
  },
  {
   "cell_type": "code",
   "execution_count": 3,
   "source": [
    "INSERT INTO Taxonomia VALUES ('Geral', NULL);\r\n",
    "INSERT INTO Taxonomia VALUES ('Serviços', 'Geral');\r\n",
    "INSERT INTO Taxonomia VALUES ('Acadêmico', 'Geral');\r\n",
    "INSERT INTO Taxonomia VALUES ('Relacionamento', 'Geral');\r\n",
    "INSERT INTO Taxonomia VALUES ('Busca', 'Serviços');\r\n",
    "INSERT INTO Taxonomia VALUES ('Portal', 'Serviços');\r\n",
    "INSERT INTO Taxonomia VALUES ('Mail', 'Serviços');\r\n",
    "INSERT INTO Taxonomia VALUES ('Vendas', 'Serviços');\r\n",
    "INSERT INTO Taxonomia VALUES ('Universidade', 'Acadêmico');\r\n",
    "INSERT INTO Taxonomia VALUES ('CG', 'Acadêmico');\r\n",
    "INSERT INTO Taxonomia VALUES ('Sociedade', 'Acadêmico');\r\n",
    "INSERT INTO Taxonomia VALUES ('Rede Social', 'Relacionamento');\r\n",
    "INSERT INTO Taxonomia VALUES ('Marketplace', 'Vendas');\r\n",
    "INSERT INTO Taxonomia VALUES ('Loja', 'Vendas');\r\n",
    "INSERT INTO Taxonomia VALUES ('Notícias', 'Portal');\r\n",
    "INSERT INTO Taxonomia VALUES ('Agregador', 'Portal');\r\n",
    "\r\n",
    "INSERT INTO Marcadores VALUES ('Terra', 'http://www.terra.com.br', 295, 'Portal');\r\n",
    "INSERT INTO Marcadores VALUES ('POVRay', 'http://www.povray.org', 2, 'CG');\r\n",
    "INSERT INTO Marcadores VALUES ('SBC', 'http://www.sbc.org.br', 26, 'Sociedade');\r\n",
    "INSERT INTO Marcadores VALUES ('Correios', 'http://www.correios.com.br', 45, 'Serviços');\r\n",
    "INSERT INTO Marcadores VALUES ('GMail', 'http://www.gmail.com', 296, 'Mail');\r\n",
    "INSERT INTO Marcadores VALUES ('Google', 'http://www.google.com', 1590, 'Busca');\r\n",
    "INSERT INTO Marcadores VALUES ('Yahoo', 'http://www.yahoo.com', 134, 'Serviços');\r\n",
    "INSERT INTO Marcadores VALUES ('Orkut', 'http://www.orkut.com', 45, 'Rede Social');\r\n",
    "INSERT INTO Marcadores VALUES ('iBahia', 'http://www.ibahia.com', 3, 'Portal');\r\n",
    "INSERT INTO Marcadores VALUES ('Submarino', 'http://www.submarino.com.br', 320, 'Loja');\r\n",
    "INSERT INTO Marcadores VALUES ('Amazon', 'https://www.amazon.com.br', 410, 'Marketplace');\r\n",
    "INSERT INTO Marcadores VALUES ('Americanas', 'https://www.americanas.com.br', 320, 'Loja');\r\n",
    "INSERT INTO Marcadores VALUES ('Mercado Livre', 'https://www.mercadolivre.com.br', 500, 'Marketplace');\r\n",
    "INSERT INTO Marcadores VALUES ('G1', 'https://g1.globo.com', 1200, 'Notícias');\r\n",
    "INSERT INTO Marcadores VALUES ('Folha', 'https://www.folha.uol.com.br', 850, 'Notícias');\r\n",
    "INSERT INTO Marcadores VALUES ('Google News', 'https://news.google.com', 900, 'Agregador');\r\n",
    "INSERT INTO Marcadores VALUES ('Flipboard', 'https://flipboard.com', 950, 'Agregador');"
   ],
   "outputs": [],
   "metadata": {}
  },
  {
   "cell_type": "markdown",
   "source": [
    "Conteúdo da tabela `Taxonomia`:"
   ],
   "metadata": {}
  },
  {
   "cell_type": "code",
   "execution_count": 4,
   "source": [
    "SELECT * FROM Taxonomia;"
   ],
   "outputs": [
    {
     "output_type": "display_data",
     "data": {
      "application/vnd.jupyter.widget-view+json": {
       "version_minor": 0,
       "model_id": "d2c7179d-b0a4-46d0-85ab-ab9d05f9fa32",
       "version_major": 2
      },
      "text/plain": []
     },
     "metadata": {}
    }
   ],
   "metadata": {}
  },
  {
   "cell_type": "markdown",
   "source": [
    "Conteúdo da tabela `Marcadores`:"
   ],
   "metadata": {}
  },
  {
   "cell_type": "code",
   "execution_count": 5,
   "source": [
    "SELECT * FROM Marcadores;"
   ],
   "outputs": [
    {
     "output_type": "display_data",
     "data": {
      "application/vnd.jupyter.widget-view+json": {
       "version_minor": 0,
       "model_id": "7ba1dceb-3d64-48bb-8196-59e707140f0c",
       "version_major": 2
      },
      "text/plain": []
     },
     "metadata": {}
    }
   ],
   "metadata": {}
  },
  {
   "cell_type": "markdown",
   "source": [
    "## Tarefa 1\n",
    "\n",
    "Escreva em SQL uma consulta que retorne os marcadores da categoria `Serviços`, sem considerar as categorias subordinadas."
   ],
   "metadata": {}
  },
  {
   "cell_type": "code",
   "execution_count": 6,
   "source": [
    "SELECT * FROM Marcadores M\r\n",
    "    WHERE M.Categoria = 'Serviços'"
   ],
   "outputs": [
    {
     "output_type": "display_data",
     "data": {
      "application/vnd.jupyter.widget-view+json": {
       "version_minor": 0,
       "model_id": "77f67092-756e-4905-88ab-eb370059d6ca",
       "version_major": 2
      },
      "text/plain": []
     },
     "metadata": {}
    }
   ],
   "metadata": {}
  },
  {
   "cell_type": "markdown",
   "source": [
    "## Tarefa 2\n",
    "\n",
    "Escreva em SQL uma consulta que retorne os marcadores da categoria `Serviços`, considerando as categorias subordinadas."
   ],
   "metadata": {}
  },
  {
   "cell_type": "code",
   "execution_count": 11,
   "source": [
    "SELECT M.Titulo, M.endereco, M.acessos, M.Categoria\r\n",
    "    FROM Marcadores M, Taxonomia T\r\n",
    "    WHERE M.Categoria IN (SELECT Categoria FROM Taxonomia WHERE Superior = 'Serviços') OR M.Categoria = 'Serviços'"
   ],
   "outputs": [
    {
     "output_type": "display_data",
     "data": {
      "application/vnd.jupyter.widget-view+json": {
       "version_minor": 0,
       "model_id": "d1b0e502-dd98-49c3-970d-8d69f68f5e43",
       "version_major": 2
      },
      "text/plain": []
     },
     "metadata": {}
    }
   ],
   "metadata": {}
  },
  {
   "cell_type": "code",
   "execution_count": null,
   "source": [],
   "outputs": [],
   "metadata": {}
  }
 ],
 "metadata": {
  "kernelspec": {
   "display_name": "SQL",
   "language": "SQL",
   "name": "python385jvsc74a57bd0380030d1298d5a27518acca789ff38fe82bbf2e68b73263de6a6bf23efb7704c"
  },
  "language_info": {
   "codemirror_mode": "sql",
   "file_extension": ".sql",
   "mimetype": "",
   "name": "SQL",
   "nbconverter_exporter": "",
   "version": ""
  },
  "toc": {
   "base_numbering": 1,
   "nav_menu": {},
   "number_sections": false,
   "sideBar": false,
   "skip_h1_title": false,
   "title_cell": "Table of Contents",
   "title_sidebar": "Contents",
   "toc_cell": false,
   "toc_position": {},
   "toc_section_display": false,
   "toc_window_display": false
  }
 },
 "nbformat": 4,
 "nbformat_minor": 4
}